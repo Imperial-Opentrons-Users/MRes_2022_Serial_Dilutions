{
  "cells": [
    {
      "cell_type": "code",
      "execution_count": 8,
      "metadata": {
        "colab": {
          "base_uri": "https://localhost:8080/"
        },
        "id": "yv5IdSjuT2tP",
        "outputId": "946ad030-b678-46e3-e8d8-0fc5a4a7fb9b"
      },
      "outputs": [
        {
          "output_type": "stream",
          "name": "stdout",
          "text": [
            "Looking in indexes: https://pypi.org/simple, https://us-python.pkg.dev/colab-wheels/public/simple/\n",
            "Requirement already satisfied: opentrons in /usr/local/lib/python3.8/dist-packages (6.1.0)\n",
            "Requirement already satisfied: pyserial==3.5 in /usr/local/lib/python3.8/dist-packages (from opentrons) (3.5)\n",
            "Requirement already satisfied: jsonschema==3.0.2 in /usr/local/lib/python3.8/dist-packages (from opentrons) (3.0.2)\n",
            "Requirement already satisfied: opentrons-shared-data==6.1.0 in /usr/local/lib/python3.8/dist-packages (from opentrons) (6.1.0)\n",
            "Requirement already satisfied: click<9,>=8.0.0 in /usr/local/lib/python3.8/dist-packages (from opentrons) (8.1.3)\n",
            "Requirement already satisfied: anyio==3.3.0 in /usr/local/lib/python3.8/dist-packages (from opentrons) (3.3.0)\n",
            "Requirement already satisfied: typing-extensions<5,>=4.0.0 in /usr/local/lib/python3.8/dist-packages (from opentrons) (4.1.1)\n",
            "Requirement already satisfied: aionotify==0.2.0 in /usr/local/lib/python3.8/dist-packages (from opentrons) (0.2.0)\n",
            "Requirement already satisfied: numpy<2,>=1.15.1 in /usr/local/lib/python3.8/dist-packages (from opentrons) (1.21.6)\n",
            "Requirement already satisfied: pydantic==1.8.2 in /usr/local/lib/python3.8/dist-packages (from opentrons) (1.8.2)\n",
            "Requirement already satisfied: idna>=2.8 in /usr/local/lib/python3.8/dist-packages (from anyio==3.3.0->opentrons) (2.10)\n",
            "Requirement already satisfied: sniffio>=1.1 in /usr/local/lib/python3.8/dist-packages (from anyio==3.3.0->opentrons) (1.3.0)\n",
            "Requirement already satisfied: attrs>=17.4.0 in /usr/local/lib/python3.8/dist-packages (from jsonschema==3.0.2->opentrons) (22.1.0)\n",
            "Requirement already satisfied: six>=1.11.0 in /usr/local/lib/python3.8/dist-packages (from jsonschema==3.0.2->opentrons) (1.15.0)\n",
            "Requirement already satisfied: setuptools in /usr/local/lib/python3.8/dist-packages (from jsonschema==3.0.2->opentrons) (57.4.0)\n",
            "Requirement already satisfied: pyrsistent>=0.14.0 in /usr/local/lib/python3.8/dist-packages (from jsonschema==3.0.2->opentrons) (0.19.2)\n"
          ]
        }
      ],
      "source": [
        "!pip install opentrons\n",
        "import opentrons\n",
        "import opentrons.execute\n",
        "from opentrons import protocol_api"
      ],
      "id": "yv5IdSjuT2tP"
    },
    {
      "cell_type": "markdown",
      "metadata": {
        "id": "OPKm1kyjT2uV"
      },
      "source": [
        "# Serial Dilution "
      ],
      "id": "OPKm1kyjT2uV"
    },
    {
      "cell_type": "code",
      "execution_count": null,
      "metadata": {
        "id": "MLYi5glhT2ui"
      },
      "outputs": [],
      "source": [
        "metadata = {\n",
        "    'apiLevel': '2.13',\n",
        "    'protocolName': 'Serial Dilution Tutorial',\n",
        "    'description': '''This protocol is the outcome of following the\n",
        "                   Python Protocol API Tutorial located at\n",
        "                   https://docs.opentrons.com/v2/tutorial.html. It takes a\n",
        "                   solution and progressively dilutes it by transferring it\n",
        "                   stepwise across a plate.''',\n",
        "    'author': 'New API User'\n",
        "    }"
      ],
      "id": "MLYi5glhT2ui"
    },
    {
      "cell_type": "code",
      "execution_count": 9,
      "metadata": {
        "id": "mb8naUXpT2uo"
      },
      "outputs": [],
      "source": [
        "def run(protocol: protocol_api.ProtocolContext):\n",
        "  metadata = {'apiLevel': '2.0'}\n",
        "  plate = protocol.load_labware('corning_96_wellplate_360ul_flat', 1)\n",
        "  tiprack_1 = protocol.load_labware('opentrons_96_tiprack_300ul', 2)\n",
        "  p300 = protocol.load_instrument('p300_multi_gen2', 'right',\n",
        "  tip_racks=[tiprack_1])\n",
        "  reservoir = protocol.load_labware('usascientific_12_reservoir_22ml', 3)\n",
        "\n",
        "  row = plate.rows()[0]\n",
        "  p300.pick_up_tip()\n",
        "  p300.transfer(100, reservoir['A1'], row[1:], new_tip='never')\n",
        "  p300.blow_out()\n",
        "  p300.transfer(200, reservoir['A2'], row[0], new_tip='never')\n",
        "  p300.blow_out()\n",
        "  p300.transfer(100, row[:10], row[1:11], mix_after=(3, 50), new_tip='never', blow_out=True)\n",
        "  p300.aspirate(100, row[10])\n",
        "  p300.drop_tip()       "
      ],
      "id": "mb8naUXpT2uo"
    },
    {
      "cell_type": "code",
      "execution_count": 5,
      "metadata": {
        "id": "IUGQjI6_T2xV",
        "outputId": "4c5111c5-2e74-46c8-8de4-2311f2b7e141",
        "colab": {
          "base_uri": "https://localhost:8080/"
        }
      },
      "outputs": [
        {
          "output_type": "stream",
          "name": "stderr",
          "text": [
            "WARNING:opentrons.config.robot_configs:/root/.opentrons/robot_settings.json not found. Loading defaults\n",
            "WARNING:opentrons.config.robot_configs:/root/.opentrons/deck_calibration.json not found. Loading defaults\n"
          ]
        },
        {
          "output_type": "stream",
          "name": "stdout",
          "text": [
            "Picking up tip from A1 of Opentrons 96 Tip Rack 300 µL on 2\n",
            "Transferring 100.0 from A1 of USA Scientific 12 Well Reservoir 22 mL on 3 to A2 of Corning 96 Well Plate 360 µL Flat on 1\n",
            "Aspirating 100.0 uL from A1 of USA Scientific 12 Well Reservoir 22 mL on 3 at 94.0 uL/sec\n",
            "Dispensing 100.0 uL into A2 of Corning 96 Well Plate 360 µL Flat on 1 at 94.0 uL/sec\n",
            "Aspirating 100.0 uL from A1 of USA Scientific 12 Well Reservoir 22 mL on 3 at 94.0 uL/sec\n",
            "Dispensing 100.0 uL into A3 of Corning 96 Well Plate 360 µL Flat on 1 at 94.0 uL/sec\n",
            "Aspirating 100.0 uL from A1 of USA Scientific 12 Well Reservoir 22 mL on 3 at 94.0 uL/sec\n",
            "Dispensing 100.0 uL into A4 of Corning 96 Well Plate 360 µL Flat on 1 at 94.0 uL/sec\n",
            "Aspirating 100.0 uL from A1 of USA Scientific 12 Well Reservoir 22 mL on 3 at 94.0 uL/sec\n",
            "Dispensing 100.0 uL into A5 of Corning 96 Well Plate 360 µL Flat on 1 at 94.0 uL/sec\n",
            "Aspirating 100.0 uL from A1 of USA Scientific 12 Well Reservoir 22 mL on 3 at 94.0 uL/sec\n",
            "Dispensing 100.0 uL into A6 of Corning 96 Well Plate 360 µL Flat on 1 at 94.0 uL/sec\n",
            "Aspirating 100.0 uL from A1 of USA Scientific 12 Well Reservoir 22 mL on 3 at 94.0 uL/sec\n",
            "Dispensing 100.0 uL into A7 of Corning 96 Well Plate 360 µL Flat on 1 at 94.0 uL/sec\n",
            "Aspirating 100.0 uL from A1 of USA Scientific 12 Well Reservoir 22 mL on 3 at 94.0 uL/sec\n",
            "Dispensing 100.0 uL into A8 of Corning 96 Well Plate 360 µL Flat on 1 at 94.0 uL/sec\n",
            "Aspirating 100.0 uL from A1 of USA Scientific 12 Well Reservoir 22 mL on 3 at 94.0 uL/sec\n",
            "Dispensing 100.0 uL into A9 of Corning 96 Well Plate 360 µL Flat on 1 at 94.0 uL/sec\n",
            "Aspirating 100.0 uL from A1 of USA Scientific 12 Well Reservoir 22 mL on 3 at 94.0 uL/sec\n",
            "Dispensing 100.0 uL into A10 of Corning 96 Well Plate 360 µL Flat on 1 at 94.0 uL/sec\n",
            "Aspirating 100.0 uL from A1 of USA Scientific 12 Well Reservoir 22 mL on 3 at 94.0 uL/sec\n",
            "Dispensing 100.0 uL into A11 of Corning 96 Well Plate 360 µL Flat on 1 at 94.0 uL/sec\n",
            "Aspirating 100.0 uL from A1 of USA Scientific 12 Well Reservoir 22 mL on 3 at 94.0 uL/sec\n",
            "Dispensing 100.0 uL into A12 of Corning 96 Well Plate 360 µL Flat on 1 at 94.0 uL/sec\n",
            "Blowing out at A12 of Corning 96 Well Plate 360 µL Flat on 1\n",
            "Transferring 200.0 from A2 of USA Scientific 12 Well Reservoir 22 mL on 3 to A1 of Corning 96 Well Plate 360 µL Flat on 1\n",
            "Aspirating 200.0 uL from A2 of USA Scientific 12 Well Reservoir 22 mL on 3 at 94.0 uL/sec\n",
            "Dispensing 200.0 uL into A1 of Corning 96 Well Plate 360 µL Flat on 1 at 94.0 uL/sec\n",
            "Blowing out at A1 of Corning 96 Well Plate 360 µL Flat on 1\n",
            "Transferring 100.0 from A1 of Corning 96 Well Plate 360 µL Flat on 1 to A2 of Corning 96 Well Plate 360 µL Flat on 1\n",
            "Aspirating 100.0 uL from A1 of Corning 96 Well Plate 360 µL Flat on 1 at 94.0 uL/sec\n",
            "Dispensing 100.0 uL into A2 of Corning 96 Well Plate 360 µL Flat on 1 at 94.0 uL/sec\n",
            "Mixing 3 times with a volume of 50.0 ul\n",
            "Aspirating 50.0 uL from A2 of Corning 96 Well Plate 360 µL Flat on 1 at 94.0 uL/sec\n",
            "Dispensing 50.0 uL into A2 of Corning 96 Well Plate 360 µL Flat on 1 at 94.0 uL/sec\n",
            "Aspirating 50.0 uL from A2 of Corning 96 Well Plate 360 µL Flat on 1 at 94.0 uL/sec\n",
            "Dispensing 50.0 uL into A2 of Corning 96 Well Plate 360 µL Flat on 1 at 94.0 uL/sec\n",
            "Aspirating 50.0 uL from A2 of Corning 96 Well Plate 360 µL Flat on 1 at 94.0 uL/sec\n",
            "Dispensing 50.0 uL into A2 of Corning 96 Well Plate 360 µL Flat on 1 at 94.0 uL/sec\n",
            "Blowing out at A1 of Opentrons Fixed Trash on 12\n",
            "Aspirating 100.0 uL from A2 of Corning 96 Well Plate 360 µL Flat on 1 at 94.0 uL/sec\n",
            "Dispensing 100.0 uL into A3 of Corning 96 Well Plate 360 µL Flat on 1 at 94.0 uL/sec\n",
            "Mixing 3 times with a volume of 50.0 ul\n",
            "Aspirating 50.0 uL from A3 of Corning 96 Well Plate 360 µL Flat on 1 at 94.0 uL/sec\n",
            "Dispensing 50.0 uL into A3 of Corning 96 Well Plate 360 µL Flat on 1 at 94.0 uL/sec\n",
            "Aspirating 50.0 uL from A3 of Corning 96 Well Plate 360 µL Flat on 1 at 94.0 uL/sec\n",
            "Dispensing 50.0 uL into A3 of Corning 96 Well Plate 360 µL Flat on 1 at 94.0 uL/sec\n",
            "Aspirating 50.0 uL from A3 of Corning 96 Well Plate 360 µL Flat on 1 at 94.0 uL/sec\n",
            "Dispensing 50.0 uL into A3 of Corning 96 Well Plate 360 µL Flat on 1 at 94.0 uL/sec\n",
            "Blowing out at A1 of Opentrons Fixed Trash on 12\n",
            "Aspirating 100.0 uL from A3 of Corning 96 Well Plate 360 µL Flat on 1 at 94.0 uL/sec\n",
            "Dispensing 100.0 uL into A4 of Corning 96 Well Plate 360 µL Flat on 1 at 94.0 uL/sec\n",
            "Mixing 3 times with a volume of 50.0 ul\n",
            "Aspirating 50.0 uL from A4 of Corning 96 Well Plate 360 µL Flat on 1 at 94.0 uL/sec\n",
            "Dispensing 50.0 uL into A4 of Corning 96 Well Plate 360 µL Flat on 1 at 94.0 uL/sec\n",
            "Aspirating 50.0 uL from A4 of Corning 96 Well Plate 360 µL Flat on 1 at 94.0 uL/sec\n",
            "Dispensing 50.0 uL into A4 of Corning 96 Well Plate 360 µL Flat on 1 at 94.0 uL/sec\n",
            "Aspirating 50.0 uL from A4 of Corning 96 Well Plate 360 µL Flat on 1 at 94.0 uL/sec\n",
            "Dispensing 50.0 uL into A4 of Corning 96 Well Plate 360 µL Flat on 1 at 94.0 uL/sec\n",
            "Blowing out at A1 of Opentrons Fixed Trash on 12\n",
            "Aspirating 100.0 uL from A4 of Corning 96 Well Plate 360 µL Flat on 1 at 94.0 uL/sec\n",
            "Dispensing 100.0 uL into A5 of Corning 96 Well Plate 360 µL Flat on 1 at 94.0 uL/sec\n",
            "Mixing 3 times with a volume of 50.0 ul\n",
            "Aspirating 50.0 uL from A5 of Corning 96 Well Plate 360 µL Flat on 1 at 94.0 uL/sec\n",
            "Dispensing 50.0 uL into A5 of Corning 96 Well Plate 360 µL Flat on 1 at 94.0 uL/sec\n",
            "Aspirating 50.0 uL from A5 of Corning 96 Well Plate 360 µL Flat on 1 at 94.0 uL/sec\n",
            "Dispensing 50.0 uL into A5 of Corning 96 Well Plate 360 µL Flat on 1 at 94.0 uL/sec\n",
            "Aspirating 50.0 uL from A5 of Corning 96 Well Plate 360 µL Flat on 1 at 94.0 uL/sec\n",
            "Dispensing 50.0 uL into A5 of Corning 96 Well Plate 360 µL Flat on 1 at 94.0 uL/sec\n",
            "Blowing out at A1 of Opentrons Fixed Trash on 12\n",
            "Aspirating 100.0 uL from A5 of Corning 96 Well Plate 360 µL Flat on 1 at 94.0 uL/sec\n",
            "Dispensing 100.0 uL into A6 of Corning 96 Well Plate 360 µL Flat on 1 at 94.0 uL/sec\n",
            "Mixing 3 times with a volume of 50.0 ul\n",
            "Aspirating 50.0 uL from A6 of Corning 96 Well Plate 360 µL Flat on 1 at 94.0 uL/sec\n",
            "Dispensing 50.0 uL into A6 of Corning 96 Well Plate 360 µL Flat on 1 at 94.0 uL/sec\n",
            "Aspirating 50.0 uL from A6 of Corning 96 Well Plate 360 µL Flat on 1 at 94.0 uL/sec\n",
            "Dispensing 50.0 uL into A6 of Corning 96 Well Plate 360 µL Flat on 1 at 94.0 uL/sec\n",
            "Aspirating 50.0 uL from A6 of Corning 96 Well Plate 360 µL Flat on 1 at 94.0 uL/sec\n",
            "Dispensing 50.0 uL into A6 of Corning 96 Well Plate 360 µL Flat on 1 at 94.0 uL/sec\n",
            "Blowing out at A1 of Opentrons Fixed Trash on 12\n",
            "Aspirating 100.0 uL from A6 of Corning 96 Well Plate 360 µL Flat on 1 at 94.0 uL/sec\n",
            "Dispensing 100.0 uL into A7 of Corning 96 Well Plate 360 µL Flat on 1 at 94.0 uL/sec\n",
            "Mixing 3 times with a volume of 50.0 ul\n",
            "Aspirating 50.0 uL from A7 of Corning 96 Well Plate 360 µL Flat on 1 at 94.0 uL/sec\n",
            "Dispensing 50.0 uL into A7 of Corning 96 Well Plate 360 µL Flat on 1 at 94.0 uL/sec\n",
            "Aspirating 50.0 uL from A7 of Corning 96 Well Plate 360 µL Flat on 1 at 94.0 uL/sec\n",
            "Dispensing 50.0 uL into A7 of Corning 96 Well Plate 360 µL Flat on 1 at 94.0 uL/sec\n",
            "Aspirating 50.0 uL from A7 of Corning 96 Well Plate 360 µL Flat on 1 at 94.0 uL/sec\n",
            "Dispensing 50.0 uL into A7 of Corning 96 Well Plate 360 µL Flat on 1 at 94.0 uL/sec\n",
            "Blowing out at A1 of Opentrons Fixed Trash on 12\n",
            "Aspirating 100.0 uL from A7 of Corning 96 Well Plate 360 µL Flat on 1 at 94.0 uL/sec\n",
            "Dispensing 100.0 uL into A8 of Corning 96 Well Plate 360 µL Flat on 1 at 94.0 uL/sec\n",
            "Mixing 3 times with a volume of 50.0 ul\n",
            "Aspirating 50.0 uL from A8 of Corning 96 Well Plate 360 µL Flat on 1 at 94.0 uL/sec\n",
            "Dispensing 50.0 uL into A8 of Corning 96 Well Plate 360 µL Flat on 1 at 94.0 uL/sec\n",
            "Aspirating 50.0 uL from A8 of Corning 96 Well Plate 360 µL Flat on 1 at 94.0 uL/sec\n",
            "Dispensing 50.0 uL into A8 of Corning 96 Well Plate 360 µL Flat on 1 at 94.0 uL/sec\n",
            "Aspirating 50.0 uL from A8 of Corning 96 Well Plate 360 µL Flat on 1 at 94.0 uL/sec\n",
            "Dispensing 50.0 uL into A8 of Corning 96 Well Plate 360 µL Flat on 1 at 94.0 uL/sec\n",
            "Blowing out at A1 of Opentrons Fixed Trash on 12\n",
            "Aspirating 100.0 uL from A8 of Corning 96 Well Plate 360 µL Flat on 1 at 94.0 uL/sec\n",
            "Dispensing 100.0 uL into A9 of Corning 96 Well Plate 360 µL Flat on 1 at 94.0 uL/sec\n",
            "Mixing 3 times with a volume of 50.0 ul\n",
            "Aspirating 50.0 uL from A9 of Corning 96 Well Plate 360 µL Flat on 1 at 94.0 uL/sec\n",
            "Dispensing 50.0 uL into A9 of Corning 96 Well Plate 360 µL Flat on 1 at 94.0 uL/sec\n",
            "Aspirating 50.0 uL from A9 of Corning 96 Well Plate 360 µL Flat on 1 at 94.0 uL/sec\n",
            "Dispensing 50.0 uL into A9 of Corning 96 Well Plate 360 µL Flat on 1 at 94.0 uL/sec\n",
            "Aspirating 50.0 uL from A9 of Corning 96 Well Plate 360 µL Flat on 1 at 94.0 uL/sec\n",
            "Dispensing 50.0 uL into A9 of Corning 96 Well Plate 360 µL Flat on 1 at 94.0 uL/sec\n",
            "Blowing out at A1 of Opentrons Fixed Trash on 12\n",
            "Aspirating 100.0 uL from A9 of Corning 96 Well Plate 360 µL Flat on 1 at 94.0 uL/sec\n",
            "Dispensing 100.0 uL into A10 of Corning 96 Well Plate 360 µL Flat on 1 at 94.0 uL/sec\n",
            "Mixing 3 times with a volume of 50.0 ul\n",
            "Aspirating 50.0 uL from A10 of Corning 96 Well Plate 360 µL Flat on 1 at 94.0 uL/sec\n",
            "Dispensing 50.0 uL into A10 of Corning 96 Well Plate 360 µL Flat on 1 at 94.0 uL/sec\n",
            "Aspirating 50.0 uL from A10 of Corning 96 Well Plate 360 µL Flat on 1 at 94.0 uL/sec\n",
            "Dispensing 50.0 uL into A10 of Corning 96 Well Plate 360 µL Flat on 1 at 94.0 uL/sec\n",
            "Aspirating 50.0 uL from A10 of Corning 96 Well Plate 360 µL Flat on 1 at 94.0 uL/sec\n",
            "Dispensing 50.0 uL into A10 of Corning 96 Well Plate 360 µL Flat on 1 at 94.0 uL/sec\n",
            "Blowing out at A1 of Opentrons Fixed Trash on 12\n",
            "Aspirating 100.0 uL from A10 of Corning 96 Well Plate 360 µL Flat on 1 at 94.0 uL/sec\n",
            "Dispensing 100.0 uL into A11 of Corning 96 Well Plate 360 µL Flat on 1 at 94.0 uL/sec\n",
            "Mixing 3 times with a volume of 50.0 ul\n",
            "Aspirating 50.0 uL from A11 of Corning 96 Well Plate 360 µL Flat on 1 at 94.0 uL/sec\n",
            "Dispensing 50.0 uL into A11 of Corning 96 Well Plate 360 µL Flat on 1 at 94.0 uL/sec\n",
            "Aspirating 50.0 uL from A11 of Corning 96 Well Plate 360 µL Flat on 1 at 94.0 uL/sec\n",
            "Dispensing 50.0 uL into A11 of Corning 96 Well Plate 360 µL Flat on 1 at 94.0 uL/sec\n",
            "Aspirating 50.0 uL from A11 of Corning 96 Well Plate 360 µL Flat on 1 at 94.0 uL/sec\n",
            "Dispensing 50.0 uL into A11 of Corning 96 Well Plate 360 µL Flat on 1 at 94.0 uL/sec\n",
            "Blowing out at A1 of Opentrons Fixed Trash on 12\n",
            "Aspirating 100.0 uL from A11 of Corning 96 Well Plate 360 µL Flat on 1 at 94.0 uL/sec\n",
            "Dropping tip into A1 of Opentrons Fixed Trash on 12\n"
          ]
        }
      ],
      "source": [
        "from opentrons import simulate\n",
        "metadata = {'apiLevel': '2.0'}\n",
        "protocol = simulate.get_protocol_api('2.0')\n",
        "plate = protocol.load_labware('corning_96_wellplate_360ul_flat', 1)\n",
        "tiprack_1 = protocol.load_labware('opentrons_96_tiprack_300ul', 2)\n",
        "p300 = protocol.load_instrument('p300_multi_gen2', 'right',\n",
        "tip_racks=[tiprack_1])\n",
        "reservoir = protocol.load_labware('usascientific_12_reservoir_22ml', 3)\n",
        "\n",
        "row = plate.rows()[0]\n",
        "p300.pick_up_tip()\n",
        "p300.transfer(100, reservoir['A1'], row[1:], new_tip='never')\n",
        "p300.blow_out()\n",
        "p300.transfer(200, reservoir['A2'], row[0], new_tip='never')\n",
        "p300.blow_out()\n",
        "p300.transfer(100, row[:10], row[1:11], mix_after=(3, 50), new_tip='never', blow_out=True)\n",
        "p300.aspirate(100, row[10])\n",
        "p300.drop_tip()        \n",
        "\n",
        "for line in protocol.commands():\n",
        "    print(line)\n"
      ],
      "id": "IUGQjI6_T2xV"
    }
  ],
  "metadata": {
    "kernelspec": {
      "display_name": "Python 3",
      "language": "python",
      "name": "python3"
    },
    "language_info": {
      "codemirror_mode": {
        "name": "ipython",
        "version": 3
      },
      "file_extension": ".py",
      "mimetype": "text/x-python",
      "name": "python",
      "nbconvert_exporter": "python",
      "pygments_lexer": "ipython3",
      "version": "3.7.3"
    },
    "colab": {
      "provenance": []
    }
  },
  "nbformat": 4,
  "nbformat_minor": 5
}